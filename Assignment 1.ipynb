{
 "cells": [
  {
   "cell_type": "markdown",
   "id": "3ada49d9",
   "metadata": {},
   "source": [
    "#                                              ASSIGNMENT 1"
   ]
  },
  {
   "cell_type": "markdown",
   "id": "6b200b17",
   "metadata": {},
   "source": [
    "Q1.Create one variable containing following type of data:\n",
    "i)string\n",
    "ii)list\n",
    "iii)float\n",
    "iv)tuple"
   ]
  },
  {
   "cell_type": "code",
   "execution_count": 2,
   "id": "d57e5096",
   "metadata": {},
   "outputs": [
    {
     "data": {
      "text/plain": [
       "str"
      ]
     },
     "execution_count": 2,
     "metadata": {},
     "output_type": "execute_result"
    }
   ],
   "source": [
    "#string\n",
    "a=\"shravankumar\"\n",
    "type(a)"
   ]
  },
  {
   "cell_type": "code",
   "execution_count": 4,
   "id": "588dae9c",
   "metadata": {},
   "outputs": [
    {
     "data": {
      "text/plain": [
       "list"
      ]
     },
     "execution_count": 4,
     "metadata": {},
     "output_type": "execute_result"
    }
   ],
   "source": [
    "#list\n",
    "b=[1,2,3,\"PWSKILLS\",True,2+3j]\n",
    "type(b)"
   ]
  },
  {
   "cell_type": "code",
   "execution_count": 5,
   "id": "44581c53",
   "metadata": {},
   "outputs": [
    {
     "data": {
      "text/plain": [
       "float"
      ]
     },
     "execution_count": 5,
     "metadata": {},
     "output_type": "execute_result"
    }
   ],
   "source": [
    "#float\n",
    "v=3.34\n",
    "type(v)"
   ]
  },
  {
   "cell_type": "code",
   "execution_count": 15,
   "id": "77be53bd",
   "metadata": {},
   "outputs": [
    {
     "data": {
      "text/plain": [
       "tuple"
      ]
     },
     "execution_count": 15,
     "metadata": {},
     "output_type": "execute_result"
    }
   ],
   "source": [
    "#tuple\n",
    "E=(1,2,\"abc\",True)\n",
    "type(E)"
   ]
  },
  {
   "cell_type": "code",
   "execution_count": null,
   "id": "72b63890",
   "metadata": {},
   "outputs": [],
   "source": []
  },
  {
   "cell_type": "markdown",
   "id": "e32b2a76",
   "metadata": {},
   "source": [
    "Q2. Given are some following variables containing data:\n",
    "\n",
    "(i)var1 = ‘ ‘\n",
    "\n",
    "(ii)var2 = ‘[ DS , ML , Python]’\n",
    "\n",
    "(iii)var3 = [ ‘DS’ , ’ML’ , ‘Python’ ]\n",
    "\n",
    "(iv)var4 = 1\n",
    "\n",
    "What will be the data type of the above given variables.\n"
   ]
  },
  {
   "cell_type": "code",
   "execution_count": 5,
   "id": "2d9c8628",
   "metadata": {},
   "outputs": [
    {
     "data": {
      "text/plain": [
       "str"
      ]
     },
     "execution_count": 5,
     "metadata": {},
     "output_type": "execute_result"
    }
   ],
   "source": [
    "var1=' '\n",
    "var2='[DS,ML<Python]'\n",
    "var3=['DS','ML','Python']\n",
    "var4=1\n",
    "type(var1)"
   ]
  },
  {
   "cell_type": "code",
   "execution_count": 7,
   "id": "1740c3c2",
   "metadata": {},
   "outputs": [
    {
     "data": {
      "text/plain": [
       "str"
      ]
     },
     "execution_count": 7,
     "metadata": {},
     "output_type": "execute_result"
    }
   ],
   "source": [
    "type(var2)"
   ]
  },
  {
   "cell_type": "code",
   "execution_count": 9,
   "id": "708b713f",
   "metadata": {},
   "outputs": [
    {
     "data": {
      "text/plain": [
       "list"
      ]
     },
     "execution_count": 9,
     "metadata": {},
     "output_type": "execute_result"
    }
   ],
   "source": [
    "type(var3)"
   ]
  },
  {
   "cell_type": "code",
   "execution_count": 11,
   "id": "6de714f1",
   "metadata": {},
   "outputs": [
    {
     "data": {
      "text/plain": [
       "int"
      ]
     },
     "execution_count": 11,
     "metadata": {},
     "output_type": "execute_result"
    }
   ],
   "source": [
    "type(var4)"
   ]
  },
  {
   "cell_type": "code",
   "execution_count": null,
   "id": "e9f84bd8",
   "metadata": {},
   "outputs": [],
   "source": []
  },
  {
   "cell_type": "raw",
   "id": "e1b111e9",
   "metadata": {},
   "source": [
    "Q3. Explain the use of the following operators using an example:\n",
    "\n",
    "(i)\t/\n",
    "\n",
    "(ii)\t% \n",
    "\n",
    "(iii)\t//\n",
    "\n",
    "(iv)\t**"
   ]
  },
  {
   "cell_type": "code",
   "execution_count": 14,
   "id": "76b9a257",
   "metadata": {},
   "outputs": [
    {
     "data": {
      "text/plain": [
       "22.0"
      ]
     },
     "execution_count": 14,
     "metadata": {},
     "output_type": "execute_result"
    }
   ],
   "source": [
    "\n",
    "''' i) /:- It is the operator called division operator.It is used for the result of division of two numbers.For example'''\n",
    "A=66\n",
    "B=3\n",
    "A/B"
   ]
  },
  {
   "cell_type": "code",
   "execution_count": 16,
   "id": "b73c1b70",
   "metadata": {},
   "outputs": [
    {
     "data": {
      "text/plain": [
       "2"
      ]
     },
     "execution_count": 16,
     "metadata": {},
     "output_type": "execute_result"
    }
   ],
   "source": [
    "'''ii) %:- It is the modulus operator.It gives us the remainder of the division.for example'''\n",
    "A=65\n",
    "B=3\n",
    "A%B"
   ]
  },
  {
   "cell_type": "code",
   "execution_count": 18,
   "id": "363a48bd",
   "metadata": {},
   "outputs": [
    {
     "data": {
      "text/plain": [
       "22"
      ]
     },
     "execution_count": 18,
     "metadata": {},
     "output_type": "execute_result"
    }
   ],
   "source": [
    "'''iii) // :- It is the floor division operator.It gives us the integer value of the quotient.for example'''\n",
    "A=66\n",
    "B=3\n",
    "A//B"
   ]
  },
  {
   "cell_type": "code",
   "execution_count": 19,
   "id": "b8b2022a",
   "metadata": {},
   "outputs": [
    {
     "data": {
      "text/plain": [
       "8"
      ]
     },
     "execution_count": 19,
     "metadata": {},
     "output_type": "execute_result"
    }
   ],
   "source": [
    "'''iv) ** :- It is the exponentiation operator.It raises the first no. to the power of the second.for example'''\n",
    "A=2\n",
    "B=3\n",
    "A**B"
   ]
  },
  {
   "cell_type": "markdown",
   "id": "285d4b63",
   "metadata": {},
   "source": [
    "Q4.Create a list of length 10 of your choise containing multiples types of data.Using for loop print the element and its types."
   ]
  },
  {
   "cell_type": "code",
   "execution_count": 24,
   "id": "f5deda97",
   "metadata": {},
   "outputs": [
    {
     "name": "stdout",
     "output_type": "stream",
     "text": [
      "<class 'int'> 23\n",
      "<class 'int'> 54\n",
      "<class 'str'> PW skills\n",
      "<class 'str'> Shravan\n",
      "<class 'bool'> True\n",
      "<class 'bool'> False\n",
      "<class 'complex'> (3+5j)\n",
      "<class 'int'> 25\n",
      "<class 'int'> 76\n",
      "<class 'int'> 65\n"
     ]
    }
   ],
   "source": [
    "l=[23,54,\"PW skills\",\"Shravan\",True,False,3+5j,25,76,65]\n",
    "for i in l:\n",
    "    print( type(i),i)\n"
   ]
  },
  {
   "cell_type": "code",
   "execution_count": null,
   "id": "43ce202d",
   "metadata": {},
   "outputs": [],
   "source": []
  },
  {
   "cell_type": "markdown",
   "id": "f6430d1c",
   "metadata": {},
   "source": [
    "Q5. Using a while loop, verify if the number A is purely divisible by number B and if so then how many times it can be divisible"
   ]
  },
  {
   "cell_type": "code",
   "execution_count": 13,
   "id": "90fb7d5e",
   "metadata": {},
   "outputs": [
    {
     "name": "stdout",
     "output_type": "stream",
     "text": [
      "Enter the value of number A: 10\n",
      "Enter the value of number B: 2\n",
      "10 is purely divisible by 2.\n",
      "It can be divided 1 times by 2.\n"
     ]
    }
   ],
   "source": [
    "number_a = int(input(\"Enter the value of number A: \"))\n",
    "number_b = int(input(\"Enter the value of number B: \"))\n",
    "def find_divisible_count(a, b):\n",
    "    count = 0\n",
    "\n",
    "    while a >= b and a % b == 0:\n",
    "        a = a // b\n",
    "        count += 1\n",
    "\n",
    "    return count\n",
    "\n",
    "\n",
    "\n",
    "\n",
    "result = find_divisible_count(number_a, number_b)\n",
    "if result > 0:\n",
    "    print(f\"{number_a} is purely divisible by {number_b}.\")\n",
    "    print(f\"It can be divided {result} times by {number_b}.\")\n",
    "else:\n",
    "    print(f\"{number_a} is not purely divisible by {number_b}.\")\n",
    "    \n",
    "    "
   ]
  },
  {
   "cell_type": "markdown",
   "id": "c5246fba",
   "metadata": {},
   "source": [
    "Q6.Create a list containing 25 in type data.Using for loop and if-else condition print if the element is divisible by 3 or not."
   ]
  },
  {
   "cell_type": "code",
   "execution_count": 14,
   "id": "e29e3648",
   "metadata": {},
   "outputs": [
    {
     "name": "stdout",
     "output_type": "stream",
     "text": [
      "1 is not divisible by 3\n",
      "2 is not divisible by 3\n",
      "3  is divisible by 3\n",
      "4 is not divisible by 3\n",
      "5 is not divisible by 3\n",
      "6  is divisible by 3\n",
      "7 is not divisible by 3\n",
      "8 is not divisible by 3\n",
      "9  is divisible by 3\n",
      "10 is not divisible by 3\n",
      "11 is not divisible by 3\n",
      "12  is divisible by 3\n",
      "13 is not divisible by 3\n",
      "14 is not divisible by 3\n",
      "15  is divisible by 3\n",
      "16 is not divisible by 3\n",
      "17 is not divisible by 3\n",
      "18  is divisible by 3\n",
      "19 is not divisible by 3\n",
      "20 is not divisible by 3\n",
      "21  is divisible by 3\n",
      "22 is not divisible by 3\n",
      "23 is not divisible by 3\n",
      "24  is divisible by 3\n",
      "25 is not divisible by 3\n"
     ]
    }
   ],
   "source": [
    "l=[1,2,3,4,5,6,7,8,9,10,11,12,13,14,15,16,17,18,19,20,21,22,23,24,25]\n",
    "for i in l:\n",
    "    if i%3==0:\n",
    "        print(i,\" is divisible by 3\")\n",
    "    else:\n",
    "        print(i,\"is not divisible by 3\")"
   ]
  },
  {
   "cell_type": "code",
   "execution_count": null,
   "id": "05cb315c",
   "metadata": {},
   "outputs": [],
   "source": []
  },
  {
   "cell_type": "markdown",
   "id": "7f28aeb3",
   "metadata": {},
   "source": [
    "Q7. What do you understand about mutable and immutable data types? Give examples for both showing this property."
   ]
  },
  {
   "cell_type": "code",
   "execution_count": 20,
   "id": "4cab1ae0",
   "metadata": {},
   "outputs": [
    {
     "data": {
      "text/plain": [
       "[1, 23, 'shravankumar', True]"
      ]
     },
     "execution_count": 20,
     "metadata": {},
     "output_type": "execute_result"
    }
   ],
   "source": [
    "'''A mutable objects can be changed after it is created.Examples:-List,set,Dictionary'''\n",
    "l=[1,23,\"shravankumar\",True]\n",
    "l"
   ]
  },
  {
   "cell_type": "code",
   "execution_count": 21,
   "id": "52a07e4e",
   "metadata": {},
   "outputs": [
    {
     "data": {
      "text/plain": [
       "[1, 23, 'PWskills', True]"
      ]
     },
     "execution_count": 21,
     "metadata": {},
     "output_type": "execute_result"
    }
   ],
   "source": [
    "l[2]='PWskills'\n",
    "l"
   ]
  },
  {
   "cell_type": "code",
   "execution_count": 22,
   "id": "391e0866",
   "metadata": {},
   "outputs": [
    {
     "data": {
      "text/plain": [
       "(1, 2, 'shravankumar', False)"
      ]
     },
     "execution_count": 22,
     "metadata": {},
     "output_type": "execute_result"
    }
   ],
   "source": [
    "'''An immutable objects cannot be changed after it is created.Examples:-tuples,int,string,float,bool'''\n",
    "a=(1,2,\"shravankumar\",False)\n",
    "a"
   ]
  },
  {
   "cell_type": "code",
   "execution_count": 23,
   "id": "702d709d",
   "metadata": {},
   "outputs": [
    {
     "ename": "TypeError",
     "evalue": "'tuple' object does not support item assignment",
     "output_type": "error",
     "traceback": [
      "\u001b[1;31m---------------------------------------------------------------------------\u001b[0m",
      "\u001b[1;31mTypeError\u001b[0m                                 Traceback (most recent call last)",
      "Cell \u001b[1;32mIn[23], line 1\u001b[0m\n\u001b[1;32m----> 1\u001b[0m \u001b[43ma\u001b[49m\u001b[43m[\u001b[49m\u001b[38;5;241;43m2\u001b[39;49m\u001b[43m]\u001b[49m\u001b[38;5;241m=\u001b[39m\u001b[38;5;124m'\u001b[39m\u001b[38;5;124mPWskills\u001b[39m\u001b[38;5;124m'\u001b[39m\n",
      "\u001b[1;31mTypeError\u001b[0m: 'tuple' object does not support item assignment"
     ]
    }
   ],
   "source": [
    "a[2]='PWskills'"
   ]
  },
  {
   "cell_type": "code",
   "execution_count": null,
   "id": "63dd4ee0",
   "metadata": {},
   "outputs": [],
   "source": []
  }
 ],
 "metadata": {
  "kernelspec": {
   "display_name": "Python 3 (ipykernel)",
   "language": "python",
   "name": "python3"
  },
  "language_info": {
   "codemirror_mode": {
    "name": "ipython",
    "version": 3
   },
   "file_extension": ".py",
   "mimetype": "text/x-python",
   "name": "python",
   "nbconvert_exporter": "python",
   "pygments_lexer": "ipython3",
   "version": "3.10.10"
  }
 },
 "nbformat": 4,
 "nbformat_minor": 5
}
